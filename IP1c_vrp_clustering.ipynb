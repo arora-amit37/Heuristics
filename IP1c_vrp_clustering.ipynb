{
 "cells": [
  {
   "cell_type": "code",
   "execution_count": 108,
   "id": "8e51b1af",
   "metadata": {},
   "outputs": [],
   "source": [
    "import numpy as np\n",
    "import pandas as pd"
   ]
  },
  {
   "cell_type": "markdown",
   "id": "2e822980",
   "metadata": {},
   "source": [
    "# Take input from the user\n",
    "## Nodes= {Node Number:[Volume(m3), Type]}\n",
    "\n",
    "## Type: \n",
    "      Book Store=b\n",
    "      Fish Shop=f\n",
    "      Restaurant=r\n",
    "      Garage=g\n",
    "      Construction Company=c\n",
    "      Lab=l\n",
    "      Vegetables=v\n",
    "      Electronics=e"
   ]
  },
  {
   "cell_type": "code",
   "execution_count": 109,
   "id": "eba2821f",
   "metadata": {},
   "outputs": [],
   "source": [
    "#cap=int(input(\"Please enter the capacity of the garabage truck: \"))\n",
    "# n=int(input(\"Please enter the number of nodes: \"))"
   ]
  },
  {
   "cell_type": "code",
   "execution_count": 110,
   "id": "62c12516",
   "metadata": {},
   "outputs": [],
   "source": [
    "# nodes={}\n",
    "# for i in range (n):\n",
    "#     V=int(input(\"Please enter the volume (m3) of the container \" + str(i+1)+\": \"))\n",
    "#     T=input(\"Please enter the type of the facility \" + str(i+1)+\": \")\n",
    "#     deets=[V,T]\n",
    "#     nodes[i+1]=deets\n",
    "\n",
    "# nodes"
   ]
  },
  {
   "cell_type": "markdown",
   "id": "1ab987e4",
   "metadata": {},
   "source": [
    "# If input is sample"
   ]
  },
  {
   "cell_type": "code",
   "execution_count": 111,
   "id": "cf4cf496",
   "metadata": {},
   "outputs": [],
   "source": [
    "#Assuming vehicle capacity\n",
    "vcap=100\n",
    "nodes={1: [20, 'b'], 2: [15, 'b'], 3: [20, 'f'], 4: [18, 'r'], 5: [15, 'g'], 6: [20, 'c'], 7: [20, 'b'], 8: [18, 'l'], 9: [20, 'v'], 10: [20, 'c'], 11: [18, 'f'], 12: [20, 'e'], 13: [20, 'v'], 14: [15, 'r'], 15: [20, 'g'], 16: [20, 'b'], 17: [20, 'b'], 18: [20, 'f'], 19: [18, 'r'], 20: [15, 'g'], 21: [20, 'c'], 22: [20, 'b'], 23: [18, 'l'], 24: [20, 'v'], 25: [20, 'c'], 26: [18, 'r'], 27: [20, 'e'], 28: [20, 'v'], 29: [20, 'r'], 30: [20, 'g']}\n",
    "nc=12\n",
    "eoc=24\n",
    "wpf_dan=[1]\n",
    "wpf_gen=[4,6,15]\n",
    "aht=[1,13,19,24]"
   ]
  },
  {
   "cell_type": "code",
   "execution_count": 112,
   "id": "d954bcbd",
   "metadata": {},
   "outputs": [],
   "source": [
    "#Read and prepare the nodes distance matrix\n",
    "ndm = pd.read_csv('input/nodes_dm.csv')\n",
    "ndm=ndm.astype('int')\n",
    "ndm=ndm.set_index('ID')\n",
    "ndm=ndm.sort_values(by='ID')\n",
    "ndm.columns=ndm.columns.astype('int')\n",
    "fdm=ndm.sort_index(axis=1)"
   ]
  },
  {
   "cell_type": "code",
   "execution_count": 113,
   "id": "b8bbb0b0",
   "metadata": {},
   "outputs": [],
   "source": [
    "#Read and prepare the depot distance matrix\n",
    "ddm = pd.read_csv('input/depot_dm.csv')\n",
    "ddm=ddm.astype('int')\n",
    "ddm=ddm.drop('InputID', axis=1)\n",
    "ddm=ddm.set_index('TargetID')\n",
    "ddm=ddm.sort_values(by='TargetID')\n",
    "# ndm.columns=ndm.columns.astype('int')\n",
    "# ndm=ndm.sort_index(axis=1)"
   ]
  },
  {
   "cell_type": "markdown",
   "id": "c8da81fa",
   "metadata": {},
   "source": [
    "# Create a function that applies Savings heuristic (Clarke-Wright) on a list of nodes"
   ]
  },
  {
   "cell_type": "code",
   "execution_count": 114,
   "id": "a257df30",
   "metadata": {},
   "outputs": [],
   "source": [
    "#define a function that creates a dataframe of savings for all pairs of nodes in a tuple\n",
    "def savi(tup):\n",
    "    savings=dict()\n",
    "    pairs= [(a, b) for idx, a in enumerate(tup) for b in tup[idx + 1:]]\n",
    "    for i in pairs:\n",
    "        savings[i]=ddm['Distance'][i[0]] + ddm['Distance'][i[1]] - fdm[i[0]][i[1]]\n",
    "    # put savings in a pandas dataframe, and sort by descending\n",
    "    sv = pd.DataFrame.from_dict(savings, orient = 'index')\n",
    "    sv.rename(columns = {0:'saving'}, inplace = True)\n",
    "    sv.sort_values(by = ['saving'], ascending = False, inplace = True)\n",
    "    return sv\n",
    "\n",
    "pd.set_option('display.max_rows', None)"
   ]
  },
  {
   "cell_type": "code",
   "execution_count": 115,
   "id": "ec3276f2",
   "metadata": {},
   "outputs": [],
   "source": [
    "#check how many nodes from a saving are there in the existing list of routes\n",
    "def checksav(lor, sav):\n",
    "    node1=any(sav[0] in sublist for sublist in lor)\n",
    "    node2=any(sav[1] in sublist for sublist in lor)\n",
    "    if node1 is False and node2 is False:\n",
    "        return(1)\n",
    "    elif node1 is True and node2 is True:\n",
    "        return(2)\n",
    "    else:\n",
    "        if node1 == True:\n",
    "            return(3)\n",
    "        else:\n",
    "            return(4)"
   ]
  },
  {
   "cell_type": "code",
   "execution_count": 116,
   "id": "48f04150",
   "metadata": {},
   "outputs": [],
   "source": [
    "#given a node is there in the lor, get the index of the route in the lor and the index of that node in the route\n",
    "def che_ind(lor, n):\n",
    "    for i in lor:\n",
    "        if n in i:\n",
    "            return(lor.index(i), i.index(n))\n",
    "            break\n",
    "        else:\n",
    "            continue"
   ]
  },
  {
   "cell_type": "code",
   "execution_count": 117,
   "id": "9d48c49e",
   "metadata": {},
   "outputs": [],
   "source": [
    "# merge two routes with a connection link\n",
    "def merge(r1, r2, li):\n",
    "    if r1[-1] in li and r2[0] in li:\n",
    "        return(r1+r2)\n",
    "    elif r1[0] in li and r2[0] in li:\n",
    "        r1.reverse()\n",
    "    elif r1[-1] in li and r2[-1] in li:\n",
    "        r2.reverse()\n",
    "    else:\n",
    "        r1.reverse()\n",
    "        r2.reverse()\n",
    "    return(r1+r2)"
   ]
  },
  {
   "cell_type": "code",
   "execution_count": 118,
   "id": "8d0deabe",
   "metadata": {},
   "outputs": [],
   "source": [
    "#define a function to find the total demand of a route\n",
    "def r_dem(x):\n",
    "    ds=0\n",
    "    for i in x:\n",
    "        ds=ds+nodes[i][0]\n",
    "    return(ds)"
   ]
  },
  {
   "cell_type": "markdown",
   "id": "dbd9aa37",
   "metadata": {},
   "source": [
    "# Pick the biggest saving:\n",
    "\n",
    "### 1. No exisitng route has any of the nodes. Create a new route. Add the saving to new route. CONTINUE.\n",
    "    The problem with this is that it will create routes with demands way less than the vehicel capacity.\n",
    "\n",
    "### 2. Both nodes are there in the existing routes:\n",
    "    2.1. Both nodes are in the same route. CONTINUE.\n",
    "    2.2. Both nodes are in the different routes:\n",
    "        2.2.1. Both nodes are NOT in the interior. Merge both routes. CONTINUE.        \n",
    "        2.2.2. Atleast one node is in the interior. CONTINUE.\n",
    "            \n",
    "### 3. One exisitng route has one of the nodes:\n",
    "    3.1. The node is in the interior of the exisitng route. CONTINUE.\n",
    "    3.2. The node is NOT in the interior of the existing route:\n",
    "        3.2.1. Node is at the beginning of the route. Add the other node at the beginning of that route. CONTINUE.\n",
    "        3.2.2. Node is at the end of the route. Add the other node at the end of that route. CONTINUE."
   ]
  },
  {
   "cell_type": "code",
   "execution_count": 119,
   "id": "320644f2",
   "metadata": {},
   "outputs": [],
   "source": [
    "#define a function that performs savings heuristic on a list of nodes for a certain vehicle capacity\n",
    "def cwalgo(lis):\n",
    "    \n",
    "    #list of routes\n",
    "    lor=[]\n",
    "    cap=vcap\n",
    "\n",
    "    #create savings dataframe\n",
    "    sv=savi(lis)\n",
    "\n",
    "    #run a for loop through all the savings\n",
    "    for sav in sv.index:\n",
    "        ##1. No node in the exisitng list of routes(lor)\n",
    "        if checksav(lor, sav)==1:\n",
    "            #check if the demand of the 2 nodes exceeds the capacity\n",
    "            if nodes[sav[0]][0]+nodes[sav[1]][0]<cap:\n",
    "                #create a new route\n",
    "                r=[]\n",
    "                r.append(sav[0])\n",
    "                r.append(sav[1])\n",
    "\n",
    "                #add the new route in the list of routes\n",
    "                lor.append(r)\n",
    "            else:\n",
    "                continue\n",
    "            \n",
    "        ##2. Both nodes already in the existing list of routes(lor)\n",
    "        elif checksav(lor, sav)==2:\n",
    "            ##2.1 both nodes in the same route\n",
    "            if che_ind(lor,sav[0])[0]==che_ind(lor,sav[1])[0]:\n",
    "                continue\n",
    "            ##2.2 nodes are in different routes\n",
    "            else:\n",
    "                ##2.2.1 Check if the BOTH nodes are the end nodes (NOT in the interior) of the respective route\n",
    "                i=che_ind(lor,sav[0])[1]\n",
    "                routei=lor[che_ind(lor,sav[0])[0]]\n",
    "                j=che_ind(lor,sav[1])[1]\n",
    "                routej=lor[che_ind(lor,sav[1])[0]]\n",
    "                if (i==0 or i==len(routei)-1) and (j==0 or j==len(routej)-1):\n",
    "                    #merge routes (if the capacity allows)\n",
    "                    route1=lor[che_ind(lor,sav[0])[0]]\n",
    "                    route2=lor[che_ind(lor,sav[1])[0]]\n",
    "                    if r_dem(route1) + r_dem(route2)<=cap:\n",
    "                        lor.remove(route1)\n",
    "                        lor.remove(route2)\n",
    "                        lor.append(merge(route1,route2,sav))\n",
    "                    else:\n",
    "                        continue\n",
    "                else:\n",
    "                    continue\n",
    "                    \n",
    "        ##3. If the 1st node is there in the already exising list of routes            \n",
    "        elif checksav(lor, sav)==3:\n",
    "            #index of node in the route\n",
    "            route=lor[che_ind(lor,sav[0])[0]]\n",
    "            node_ind=che_ind(lor,sav[0])[1]\n",
    "            if r_dem(route)+nodes[sav[1]][0]>cap:\n",
    "                continue\n",
    "            else:\n",
    "                ##3.1 if the node is in the interior of the route\n",
    "                if node_ind!=0 and node_ind!=len(route)-1:\n",
    "                    continue\n",
    "                ##3.2 Node is at the exterior of the route\n",
    "                ###3.2.1 Node is at the beginning of the route\n",
    "                elif node_ind==0:\n",
    "                    route.insert(0,sav[1])\n",
    "                else:\n",
    "                    route.insert(len(route),sav[1])\n",
    "                \n",
    "        ##3. If the 2nd node is there in the already exising list of routes\n",
    "        else:\n",
    "            #index of node in the route\n",
    "            route=lor[che_ind(lor,sav[1])[0]]\n",
    "            node_ind=che_ind(lor,sav[1])[1]\n",
    "            if r_dem(route)+nodes[sav[0]][0]>cap:\n",
    "                continue\n",
    "            else:\n",
    "                ##3.1 if the node is in the interior of the route\n",
    "                if node_ind!=0 and node_ind!=len(route)-1:\n",
    "                    continue\n",
    "                        \n",
    "                ##3.2 Node is at the exterior of the route\n",
    "                ###3.2.1 Node is at the beginning of the route\n",
    "                elif node_ind==0:\n",
    "                    route.insert(0,sav[0])\n",
    "                ###3.2.2 Node is at the end of the route\n",
    "                else:\n",
    "                    route.insert(len(route),sav[0])\n",
    "    return lor"
   ]
  },
  {
   "cell_type": "code",
   "execution_count": 120,
   "id": "b9b67266",
   "metadata": {},
   "outputs": [],
   "source": [
    "#define a function to calculate the total distance travelled in a route from depot to last node\n",
    "def tdr(route):\n",
    "    td=ddm['Distance'][route[0]]\n",
    "    for x in range(len(route)-1):\n",
    "        i=route[x]\n",
    "        j=route[x+1]\n",
    "        td=td+fdm[i][j]\n",
    "    return td"
   ]
  },
  {
   "cell_type": "code",
   "execution_count": 121,
   "id": "7de09fa2",
   "metadata": {},
   "outputs": [],
   "source": [
    "#define a function to calculate the total distance travelled in a list of routes\n",
    "def tdlor(lor):\n",
    "    td=0\n",
    "    for i in lor:\n",
    "          td=td+tdr(i)\n",
    "    return (td)"
   ]
  },
  {
   "cell_type": "code",
   "execution_count": 122,
   "id": "8aeaf806",
   "metadata": {},
   "outputs": [],
   "source": [
    "#bifurcate dangerous, construction, general waste nodes\n",
    "dan=[]\n",
    "con=[]\n",
    "gen=[]\n",
    "for i in nodes:\n",
    "    if i==nc:\n",
    "        con.append(i)\n",
    "    elif nodes[i][1]=='g' or nodes[i][1]=='l' or nodes[i][1]=='e':\n",
    "        dan.append(i)\n",
    "    elif nodes[i][1]=='c':\n",
    "        con.append(i)\n",
    "    else:\n",
    "        gen.append(i)"
   ]
  },
  {
   "cell_type": "markdown",
   "id": "4224f18c",
   "metadata": {},
   "source": [
    "### Put every construction waste node in dangerous and general waste groups to check which gives the minimum increment in distance"
   ]
  },
  {
   "cell_type": "code",
   "execution_count": 123,
   "id": "a4fdcb2b",
   "metadata": {},
   "outputs": [],
   "source": [
    "#check location for every construction waste node\n",
    "for i in con:\n",
    "    #distance of original dangerous list of routes\n",
    "    dlor = cwalgo(dan)\n",
    "    tddlor = tdlor(dlor)\n",
    "    \n",
    "    #distance of original dangerous list of routes\n",
    "    glor = cwalgo(gen)\n",
    "    tdglor = tdlor(glor)\n",
    "    \n",
    "    #put in dangerous waste nodes\n",
    "    dan.append(i)\n",
    "    #calculate new total distance\n",
    "    dlor_new = cwalgo(dan)\n",
    "    tddlor_new = tdlor(dlor_new)\n",
    "    #difference in distances\n",
    "    diff_d = tddlor_new-tddlor\n",
    "    \n",
    "    #put in general waste nodes\n",
    "    gen.append(i)\n",
    "    #calculate new total distance\n",
    "    glor_new = cwalgo(gen)\n",
    "    tdglor_new = tdlor(glor_new)\n",
    "    #difference in distances\n",
    "    diff_g = tdglor_new-tdglor\n",
    "    \n",
    "    if diff_g > diff_d:\n",
    "        gen.remove(i)\n",
    "    else:\n",
    "        dan.remove(i)"
   ]
  },
  {
   "cell_type": "code",
   "execution_count": 124,
   "id": "671017b3",
   "metadata": {},
   "outputs": [
    {
     "data": {
      "text/plain": [
       "[[1, 6, 19, 29, 28],\n",
       " [24, 9, 16, 17, 18],\n",
       " [26, 12, 11, 4],\n",
       " [14, 22, 3, 10, 7],\n",
       " [2, 13]]"
      ]
     },
     "execution_count": 124,
     "metadata": {},
     "output_type": "execute_result"
    }
   ],
   "source": [
    "gen_lor=cwalgo(gen)\n",
    "gen_lor"
   ]
  },
  {
   "cell_type": "code",
   "execution_count": 125,
   "id": "e987ddaf",
   "metadata": {},
   "outputs": [
    {
     "data": {
      "text/plain": [
       "[[5, 20, 15, 21], [30, 25, 8, 27, 23]]"
      ]
     },
     "execution_count": 125,
     "metadata": {},
     "output_type": "execute_result"
    }
   ],
   "source": [
    "dan_lor=cwalgo(dan)\n",
    "dan_lor"
   ]
  },
  {
   "cell_type": "markdown",
   "id": "34927ee8",
   "metadata": {},
   "source": [
    "## Insert the wpf nodes at the end of every route"
   ]
  },
  {
   "cell_type": "code",
   "execution_count": 126,
   "id": "c6a2ee6e",
   "metadata": {},
   "outputs": [],
   "source": [
    "#make separate list of routes serving a wpf node and those that are not serving a wpf node\n",
    "wpfr=[]\n",
    "nwpfr=[]\n"
   ]
  },
  {
   "cell_type": "code",
   "execution_count": 127,
   "id": "a9146d79",
   "metadata": {},
   "outputs": [
    {
     "data": {
      "text/plain": [
       "[[5, 20, 15, 21, 1], [30, 25, 8, 27, 23, 1]]"
      ]
     },
     "execution_count": 127,
     "metadata": {},
     "output_type": "execute_result"
    }
   ],
   "source": [
    "#dangerous waste routes\n",
    "\n",
    "for r in dan_lor:\n",
    "    \n",
    "    #if there is a wpf node in the route, put the wpf node in the end\n",
    "    if any(n in r for n in wpf_dan)==True:\n",
    "        inter=[i for i in r if i in wpf_dan][0]\n",
    "        r.remove(inter)\n",
    "        r.append(inter)\n",
    "        wpfr.append(r)\n",
    "        \n",
    "    #if there is no wpf node in a route, add the wpf node at the end\n",
    "    else:\n",
    "        r.append(wpf_dan[0])\n",
    "        nwpfr.append(r)\n",
    "    \n",
    "dan_lor"
   ]
  },
  {
   "cell_type": "code",
   "execution_count": 128,
   "id": "5919ee8e",
   "metadata": {},
   "outputs": [
    {
     "data": {
      "text/plain": [
       "[[1, 19, 29, 28, 6],\n",
       " [24, 9, 16, 17, 18, 4],\n",
       " [26, 12, 11, 4],\n",
       " [14, 22, 3, 10, 7, 4],\n",
       " [2, 13, 4]]"
      ]
     },
     "execution_count": 128,
     "metadata": {},
     "output_type": "execute_result"
    }
   ],
   "source": [
    "#general waste routes\n",
    "\n",
    "for r in gen_lor:\n",
    "    \n",
    "    #if there is a wpf node in the route, put the wpf node in the end\n",
    "    if any(n in r for n in wpf_gen)==True:\n",
    "        inter=[i for i in r if i in wpf_gen][0]\n",
    "        r.remove(inter)\n",
    "        r.append(inter)\n",
    "        wpfr.append(r)\n",
    "    \n",
    "    #when there is no wpf node in any route, add a wpf node which is closest to the last node of the route\n",
    "    else:\n",
    "        lnd=[]\n",
    "        for j in wpf_gen:\n",
    "            lndj=fdm[r[-1]][j]\n",
    "            lnd.append(lndj)\n",
    "        minlnd=min(lnd)\n",
    "        mind=lnd.index(minlnd)\n",
    "        r.append(wpf_gen[mind])\n",
    "        nwpfr.append(r)\n",
    "            \n",
    "gen_lor"
   ]
  },
  {
   "cell_type": "code",
   "execution_count": 129,
   "id": "4361d3b8",
   "metadata": {},
   "outputs": [
    {
     "data": {
      "text/plain": [
       "([[1, 19, 29, 28, 6], [26, 12, 11, 4]],\n",
       " [[5, 20, 15, 21, 1],\n",
       "  [30, 25, 8, 27, 23, 1],\n",
       "  [24, 9, 16, 17, 18, 4],\n",
       "  [14, 22, 3, 10, 7, 4],\n",
       "  [2, 13, 4]])"
      ]
     },
     "execution_count": 129,
     "metadata": {},
     "output_type": "execute_result"
    }
   ],
   "source": [
    "#all routes\n",
    "allr=wpfr+nwpfr\n",
    "wpfr,nwpfr"
   ]
  },
  {
   "cell_type": "markdown",
   "id": "5c0fa4e4",
   "metadata": {},
   "source": [
    "# Time Constraints\n",
    "### Normal time window (Departure of trucks from the depot to arrival of trucks at the depot)= 7 am to 5 pm (0-600)\n",
    "### Every customer should be served before 4 pm (< 540)\n",
    "### All the restraunts should be served before noon (< 300)\n",
    "### Dangerous waste can only be dumped between 1 pm and 4 pm (360-540)\n",
    "\n",
    "# Time insertions\n",
    "### Every truck takes 10 minutes to dump the waste at the facility (assumption)\n",
    "### Every node except bookstores need 10 minutes (assumption) for service, book stores need 15 minutes (assumption) for service as they need the same container back\n",
    "### Additional Handeling time of 15 minutes at [aht] nodes"
   ]
  },
  {
   "cell_type": "code",
   "execution_count": 130,
   "id": "7f3cfad7",
   "metadata": {},
   "outputs": [],
   "source": [
    "#list of book stores and restaurants\n",
    "book=[]\n",
    "rest=[]\n",
    "for i in nodes:\n",
    "    if nodes[i][1]=='b':\n",
    "        book.append(i)\n",
    "    elif nodes[i][1]=='r':\n",
    "        rest.append(i)\n",
    "    else:\n",
    "        continue"
   ]
  },
  {
   "cell_type": "code",
   "execution_count": 131,
   "id": "44057665",
   "metadata": {},
   "outputs": [],
   "source": [
    "#Read and prepare the nodes time matrix\n",
    "ntm = pd.read_csv('input/nodes_tm.csv')\n",
    "ntm=ntm.astype('int')\n",
    "ntm=ntm.set_index('ID')\n",
    "ntm=ntm.sort_values(by='ID')\n",
    "ntm.columns=ntm.columns.astype('int')\n",
    "ntm=ntm.sort_index(axis=1)"
   ]
  },
  {
   "cell_type": "code",
   "execution_count": 132,
   "id": "746a7ecc",
   "metadata": {},
   "outputs": [],
   "source": [
    "#Read and prepare the depot time matrix\n",
    "dtm = pd.read_csv('input/depot_tm.csv')\n",
    "dtm=dtm.astype('int')\n",
    "dtm=dtm.drop('InputID', axis=1)\n",
    "dtm=dtm.set_index('TargetID')\n",
    "dtm=dtm.sort_values(by='TargetID')"
   ]
  },
  {
   "cell_type": "code",
   "execution_count": 133,
   "id": "016ea03d",
   "metadata": {},
   "outputs": [],
   "source": [
    "#define a function that give times for every node of a route at a given starting point\n",
    "def tw(route, start):\n",
    "    t={}\n",
    "    t['dep1']=start\n",
    "    time=start + dtm['Time'][route[0]]\n",
    "    \n",
    "    #run a loop through all the nodes except the last node (wpf node)\n",
    "    for i in range(len(route)-1):\n",
    "        \n",
    "        #Add Service time at node i\n",
    "        if route[i] in book and route[i] in aht:\n",
    "            time = time + 30\n",
    "        elif route[i] in aht:\n",
    "            time = time + 25\n",
    "        elif route[i] in book:\n",
    "            time = time + 15\n",
    "        else:\n",
    "            time = time + 10\n",
    "        \n",
    "        #Add into the 't' dictionary\n",
    "        t[route[i]] =time\n",
    "        \n",
    "        #Add the travel time from (i) to (i+1)\n",
    "        time = time + ntm[route[i]][route[i+1]]\n",
    "        \n",
    "    #Add service time at the wpf node\n",
    "    \n",
    "    w=route[-1]\n",
    "    \n",
    "    #if route has to serve as well dump at wpf node\n",
    "    if route in wpfr:\n",
    "              \n",
    "        #service time\n",
    "        if w in book and w in aht:\n",
    "            time = time + 30\n",
    "        elif w in aht:\n",
    "            time = time + 25\n",
    "        elif w in book:\n",
    "            time = time + 15\n",
    "        else:\n",
    "            time = time + 10\n",
    "            \n",
    "        #Add w processing time into the 't' dictionary\n",
    "        t[w] = time\n",
    "        \n",
    "        #dumping time\n",
    "        time = time + 10\n",
    "        \n",
    "    else:\n",
    "        #only dumping time\n",
    "        time = time + 10\n",
    "    \n",
    "    #Add dumping completion into the 't' dictionary\n",
    "    t['dump'] = time\n",
    "    \n",
    "    #Add returning to the depot time\n",
    "    time=time+dtm[\"Time\"][w]\n",
    "    t['dep2']=time\n",
    "    \n",
    "    return(t)"
   ]
  },
  {
   "cell_type": "code",
   "execution_count": 134,
   "id": "29c22bfb",
   "metadata": {},
   "outputs": [],
   "source": [
    "#combine the service completion times of all the nodes in a dictinary\n",
    "strt=0\n",
    "nsct={}\n",
    "dumpct=[]\n",
    "deprt=[]\n",
    "for i in allr:\n",
    "    dic=tw(i,strt)\n",
    "    for j in dic:\n",
    "        if type(j)==int:\n",
    "            nsct[j]=dic[j]\n",
    "        elif j=='dump':\n",
    "            dumpct.append((i[-1], dic[j]))\n",
    "        elif j=='dep2':\n",
    "            deprt.append((i[-1], dic[j]))"
   ]
  },
  {
   "cell_type": "markdown",
   "id": "36c70afd",
   "metadata": {},
   "source": [
    "## Create a dictionary with keys as starting times and values as routes"
   ]
  },
  {
   "cell_type": "code",
   "execution_count": 135,
   "id": "718ab114",
   "metadata": {},
   "outputs": [
    {
     "data": {
      "text/plain": [
       "[[1, 19, 29, 28, 6],\n",
       " [24, 9, 16, 17, 18, 4],\n",
       " [26, 12, 11, 4],\n",
       " [14, 22, 3, 10, 7, 4],\n",
       " [2, 13, 4]]"
      ]
     },
     "execution_count": 135,
     "metadata": {},
     "output_type": "execute_result"
    }
   ],
   "source": [
    "gen_lor"
   ]
  },
  {
   "cell_type": "code",
   "execution_count": 136,
   "id": "e0bcbb21",
   "metadata": {},
   "outputs": [],
   "source": [
    "final_d=[]"
   ]
  },
  {
   "cell_type": "code",
   "execution_count": 137,
   "id": "71e159de",
   "metadata": {},
   "outputs": [],
   "source": [
    "#ensure restraunts are served before noon\n",
    "for i in gen_lor:\n",
    "    \n",
    "    #check if there is a restaurant node in the route (before last node)\n",
    "    dupi=i\n",
    "    for j in range(len(dupi)-1):\n",
    "        if dupi[j] in rest and nsct[dupi[j]]>300:\n",
    "            n=dupi[j]\n",
    "            while (tw(i,0))[n]>300:\n",
    "                nind=i.index(n)\n",
    "                i.remove(n)\n",
    "                i.insert(nind-1)\n",
    "            \n",
    "    #for last node\n",
    "    if i in wpfr and i[-1] in rest and nsct[i[-1]]>300:\n",
    "        n=dupi[-1]\n",
    "        nind=i.index(n)\n",
    "        i.insert(nind-1)\n",
    "        while (tw(i,0))[n]>300:\n",
    "                nind=i.index(n)\n",
    "                i.remove(n)\n",
    "                i.insert(nind-1)\n",
    "                \n",
    "for i in gen_lor:\n",
    "    final_d.append((0,i))"
   ]
  },
  {
   "cell_type": "code",
   "execution_count": 138,
   "id": "fd56c839",
   "metadata": {},
   "outputs": [],
   "source": [
    "#ensure dangerous waste is dumped in between 1 pm and 4 pm\n",
    "for i in dan_lor:\n",
    "    strt=0\n",
    "    times=tw(i,strt)\n",
    "    if times['dump']<370:\n",
    "        diff=370-times['dump']\n",
    "        final_d.append((diff,i))\n",
    "    else:\n",
    "        final_d.append(0,i)"
   ]
  },
  {
   "cell_type": "code",
   "execution_count": 139,
   "id": "38f47d26",
   "metadata": {},
   "outputs": [
    {
     "data": {
      "text/plain": [
       "[(0, [1, 19, 29, 28, 6]),\n",
       " (0, [24, 9, 16, 17, 18, 4]),\n",
       " (0, [26, 12, 11, 4]),\n",
       " (0, [14, 22, 3, 10, 7, 4]),\n",
       " (0, [2, 13, 4]),\n",
       " (131, [5, 20, 15, 21, 1]),\n",
       " (120, [30, 25, 8, 27, 23, 1])]"
      ]
     },
     "execution_count": 139,
     "metadata": {},
     "output_type": "execute_result"
    }
   ],
   "source": [
    "final_d"
   ]
  },
  {
   "cell_type": "code",
   "execution_count": 140,
   "id": "b1ad6b54",
   "metadata": {},
   "outputs": [
    {
     "name": "stdout",
     "output_type": "stream",
     "text": [
      "Truck: 1\n",
      "{'dep1': 0, 1: 63, 19: 211, 29: 250, 28: 287, 6: 338, 'dump': 348, 'dep2': 407}\n",
      "Truck: 2\n",
      "{'dep1': 0, 24: 61, 9: 124, 16: 180, 17: 223, 18: 253, 'dump': 293, 'dep2': 304}\n",
      "Truck: 3\n",
      "{'dep1': 0, 26: 31, 12: 47, 11: 67, 4: 87, 'dump': 97, 'dep2': 108}\n",
      "Truck: 4\n",
      "{'dep1': 0, 14: 23, 22: 38, 3: 48, 10: 68, 7: 104, 'dump': 150, 'dep2': 161}\n",
      "Truck: 5\n",
      "{'dep1': 0, 2: 28, 13: 63, 'dump': 95, 'dep2': 106}\n",
      "Truck: 6\n",
      "{'dep1': 131, 5: 150, 20: 169, 15: 268, 21: 319, 'dump': 370, 'dep2': 403}\n",
      "Truck: 7\n",
      "{'dep1': 120, 30: 161, 25: 202, 8: 243, 27: 288, 23: 320, 'dump': 370, 'dep2': 403}\n"
     ]
    }
   ],
   "source": [
    "for i in range(len(final_d)):\n",
    "    start=(final_d[i])[0]\n",
    "    route=(final_d[i])[1]\n",
    "    print(\"Truck: \"+str(i+1))\n",
    "    print(tw(route,start))"
   ]
  },
  {
   "cell_type": "code",
   "execution_count": null,
   "id": "8c64b179",
   "metadata": {},
   "outputs": [],
   "source": []
  }
 ],
 "metadata": {
  "kernelspec": {
   "display_name": "Python 3 (ipykernel)",
   "language": "python",
   "name": "python3"
  },
  "language_info": {
   "codemirror_mode": {
    "name": "ipython",
    "version": 3
   },
   "file_extension": ".py",
   "mimetype": "text/x-python",
   "name": "python",
   "nbconvert_exporter": "python",
   "pygments_lexer": "ipython3",
   "version": "3.9.7"
  }
 },
 "nbformat": 4,
 "nbformat_minor": 5
}
